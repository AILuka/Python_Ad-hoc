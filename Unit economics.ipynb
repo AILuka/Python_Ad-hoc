{
 "cells": [
  {
   "cell_type": "markdown",
   "id": "39fca6a0",
   "metadata": {},
   "source": [
    "## Unit economics online channel"
   ]
  },
  {
   "cell_type": "code",
   "execution_count": 1,
   "id": "b3469350",
   "metadata": {},
   "outputs": [
    {
     "name": "stdout",
     "output_type": "stream",
     "text": [
      "Doing the math, wait a minute\n"
     ]
    }
   ],
   "source": [
    "print('Doing the math, wait a minute')"
   ]
  },
  {
   "cell_type": "code",
   "execution_count": 2,
   "id": "4b357cc3",
   "metadata": {},
   "outputs": [],
   "source": [
    "import pandas as pd"
   ]
  },
  {
   "cell_type": "code",
   "execution_count": 4,
   "id": "7ddf54a2",
   "metadata": {},
   "outputs": [],
   "source": [
    "directory = 'p:/FD-Supermarket/Отчетность/Расчет PL Перекресток Быстро/2023/'\n",
    "data_ue_pnl, data_ue_delivery_cost = 'data_ue_pnl.xlsx', 'data_ue_delivery_cost.xlsx'\n",
    "data_ue_pnl, data_ue_delivery_cost = pd.read_excel(\n",
    "    directory+data_ue_pnl, header=0), pd.read_excel(directory+data_ue_delivery_cost, header=0)"
   ]
  },
  {
   "cell_type": "code",
   "execution_count": 5,
   "id": "cc8c60a2",
   "metadata": {},
   "outputs": [],
   "source": [
    "#prepare data of delivery cost (group the duplicated cities and process numbers)\n",
    "data_ue_delivery_cost_2 = data_ue_delivery_cost.groupby(['Город', 'Месяц'], as_index=False).agg({'Факт TY':'sum'})\n",
    "data_ue_delivery_cost_2['Факт TY'] = data_ue_delivery_cost_2['Факт TY'] / -1000"
   ]
  },
  {
   "cell_type": "code",
   "execution_count": 6,
   "id": "481e2970",
   "metadata": {},
   "outputs": [],
   "source": [
    "#split table to stores and others objects\n",
    "#only retail stores, #excclude log.cost becasue it will be taken from other source\n",
    "data_ue_pnl_stores = data_ue_pnl.loc[(data_ue_pnl['Тип ЦФО'] == 'Магазин') & (\n",
    "    data_ue_pnl['Даркстор'] == 'Магазин') & (data_ue_pnl['Статья FBR'] != 'Расходы на доставку')]\n",
    "#group by city, #add column with cost type\n",
    "data_ue_pnl_stores_2 = data_ue_pnl_stores.groupby(\n",
    "    ['Город', 'Месяц', 'Статья FBR'], as_index=False).agg({'Факт TY':'sum'})\n",
    "data_ue_pnl_stores_2['Вид расходов'], data_ue_pnl_stores_2['СМ/DS'] = 'Прямые', 'СМ'\n",
    "\n",
    "\n",
    "#only darktstores\n",
    "data_ue_pnl_darkstores = data_ue_pnl.loc[data_ue_pnl['Даркстор'] == 'Даркстор']\n",
    "#group by city, #add column with cost type\n",
    "data_ue_pnl_darkstores_2 = data_ue_pnl_darkstores.groupby(\n",
    "    ['Город', 'Месяц', 'Статья FBR'], as_index=False).agg({'Факт TY':'sum'})\n",
    "data_ue_pnl_darkstores_2['Вид расходов'], data_ue_pnl_darkstores_2['СМ/DS'] = 'Прямые', 'DS'\n",
    "\n",
    "#only others (administrative objects), #excclude log.cost becasue it will be taken from other source\n",
    "data_ue_pnl_others = data_ue_pnl.loc[(data_ue_pnl['Тип ЦФО'] != 'Магазин') & (\n",
    "    data_ue_pnl['Статья FBR'] != 'Расходы на доставку')]"
   ]
  },
  {
   "cell_type": "code",
   "execution_count": 7,
   "id": "45e6ce83",
   "metadata": {},
   "outputs": [],
   "source": [
    "#create list of columns other than exceptions\n",
    "attribute_columns = list(data_ue_pnl_others.columns.difference(['Факт TY', 'Бюджет TY', 'Факт LY']))"
   ]
  },
  {
   "cell_type": "markdown",
   "id": "1e240d4d",
   "metadata": {},
   "source": [
    "#### Drivers for general retail cost allocations:\n",
    "- total number of orders"
   ]
  },
  {
   "cell_type": "code",
   "execution_count": 8,
   "id": "76efae35",
   "metadata": {},
   "outputs": [],
   "source": [
    "#calculate the number of orders by cities\n",
    "orders = data_ue_pnl_stores.loc[data_ue_pnl_stores['Тип расходов']=='Кол-во заказов'].groupby(\n",
    "    ['Город', 'Месяц', 'Дивизион', 'Макро'], as_index=False).agg({'Факт TY':'sum'})\n",
    "\n",
    "#calculate the number of orders by division\n",
    "orders_div = orders.groupby(\n",
    "    ['Месяц', 'Дивизион'], as_index=False).agg({'Факт TY':'sum'}).rename(\n",
    "    columns = {'Факт TY':'Факт TY_div'})\n",
    "\n",
    "#calculate the number of orders by macro-division\n",
    "orders_macro = orders.groupby(\n",
    "    ['Месяц', 'Макро'], as_index=False).agg({'Факт TY':'sum'}).rename(\n",
    "    columns = {'Факт TY':'Факт TY_macro'})\n",
    "\n",
    "#calculate the number of orders by total (month)\n",
    "orders_total = orders.groupby(\n",
    "    ['Месяц'], as_index=False).agg({'Факт TY':'sum'}).rename(\n",
    "    columns = {'Факт TY':'Факт TY_total'})"
   ]
  },
  {
   "cell_type": "code",
   "execution_count": 9,
   "id": "bca086a7",
   "metadata": {},
   "outputs": [],
   "source": [
    "#add grouped number of orders into the main table\n",
    "orders_2 = orders.merge(orders_div, on=['Месяц', 'Дивизион'], how='left')\n",
    "orders_2 = orders_2.merge(orders_macro, on=['Месяц', 'Макро'], how='left')\n",
    "orders_2 = orders_2.merge(orders_total, on=['Месяц'], how='left')"
   ]
  },
  {
   "cell_type": "code",
   "execution_count": 10,
   "id": "d9fc6385",
   "metadata": {},
   "outputs": [],
   "source": [
    "#calculate the share of the city in different levels\n",
    "orders_2['div_share'] = orders_2['Факт TY'] / orders_2['Факт TY_div']\n",
    "orders_2['macro_share'] = orders_2['Факт TY'] / orders_2['Факт TY_macro']\n",
    "orders_2['total_share'] = orders_2['Факт TY'] / orders_2['Факт TY_total']"
   ]
  },
  {
   "cell_type": "code",
   "execution_count": 11,
   "id": "b95499b0",
   "metadata": {},
   "outputs": [],
   "source": [
    "#create tables which includes all 3 levels of allocations\n",
    "cost_division = data_ue_pnl_others.loc[data_ue_pnl_others['Город']=='Аллокации Дивизионы'].groupby(\n",
    "    ['Месяц', 'Дивизион', 'Статья FBR'], as_index=False).agg({'Факт TY':'sum'})\n",
    "cost_macro = data_ue_pnl_others.loc[data_ue_pnl_others['Город']=='Аллокации Макро'].groupby(\n",
    "    ['Месяц', 'Макро', 'Статья FBR'], as_index=False).agg({'Факт TY':'sum'})\n",
    "cost_total = data_ue_pnl_others.loc[data_ue_pnl_others['Город']=='Аллокации ТС'].groupby(\n",
    "    ['Месяц', 'Статья FBR'], as_index=False).agg({'Факт TY':'sum'})"
   ]
  },
  {
   "cell_type": "code",
   "execution_count": 12,
   "id": "cd2821e7",
   "metadata": {},
   "outputs": [],
   "source": [
    "#create a text key\n",
    "orders_2['key'] = orders_2['Город']+orders_2['Месяц'].astype('str')+orders_2[\n",
    "    'Дивизион']+orders_2['Макро']"
   ]
  },
  {
   "cell_type": "code",
   "execution_count": 13,
   "id": "4fcfbb22",
   "metadata": {},
   "outputs": [],
   "source": [
    "#create a Cartesian product\n",
    "key_list = orders_2['key'].unique()\n",
    "accounts_list = data_ue_pnl_others['Статья FBR'].unique()\n",
    "\n",
    "cartesian_df = pd.MultiIndex.from_product([key_list, accounts_list]).to_frame().reset_index(drop=True)\n",
    "cartesian_df.columns = ['key', 'Статья FBR']"
   ]
  },
  {
   "cell_type": "code",
   "execution_count": 14,
   "id": "a1d9c04f",
   "metadata": {},
   "outputs": [],
   "source": [
    "#fill the table with order's shares\n",
    "cartesian_df_2 = cartesian_df.merge(orders_2, on='key', how='left')\n",
    "#drop unnecessary columns\n",
    "cartesian_df_2 = cartesian_df_2[['Статья FBR', 'Город', 'Месяц', 'Дивизион', 'Макро', \n",
    "                                'div_share', 'macro_share', 'total_share']]"
   ]
  },
  {
   "cell_type": "code",
   "execution_count": 15,
   "id": "17ae30a5",
   "metadata": {},
   "outputs": [],
   "source": [
    "#calculate division allocations\n",
    "allocations_division = cartesian_df_2.merge(cost_division, on=['Месяц', 'Дивизион', 'Статья FBR'], how='left')\n",
    "allocations_division['allocation_sum'] =  allocations_division['Факт TY'] * allocations_division['div_share']\n",
    "allocations_division_2 = allocations_division.groupby(['Город', 'Месяц', 'Статья FBR', 'allocation_sum'], \n",
    "                                                      as_index=False).agg({'allocation_sum':'sum'}) \n",
    "allocations_division_2['Вид расходов'] = 'Аллокации дивизиона' \n",
    "\n",
    "#calculate macro allocations\n",
    "allocations_macro = cartesian_df_2.merge(cost_macro, on=['Месяц', 'Макро', 'Статья FBR'], how='left')\n",
    "allocations_macro['allocation_sum'] =  allocations_macro['Факт TY'] * allocations_macro['macro_share']\n",
    "allocations_macro_2 = allocations_macro.groupby(['Город', 'Месяц', 'Статья FBR', 'allocation_sum'], \n",
    "                                                      as_index=False).agg({'allocation_sum':'sum'})  \n",
    "allocations_macro_2['Вид расходов'] = 'Аллокации макро' \n",
    "\n",
    "#calculate total allocations\n",
    "allocations_total = cartesian_df_2.merge(cost_total, on=['Месяц', 'Статья FBR'], how='left')\n",
    "allocations_total['allocation_sum'] =  allocations_total['Факт TY'] * allocations_total['total_share']\n",
    "allocations_total_2 = allocations_total.groupby(['Город', 'Месяц', 'Статья FBR', 'allocation_sum'], \n",
    "                                                as_index=False).agg({'allocation_sum':'sum'}) \n",
    "allocations_total_2['Вид расходов'] = 'Аллокации ТС'"
   ]
  },
  {
   "cell_type": "code",
   "execution_count": 16,
   "id": "1d72ab84",
   "metadata": {},
   "outputs": [],
   "source": [
    "#combine all 3 allocations datasets \n",
    "allocations_cons = pd.concat([allocations_division_2, allocations_macro_2, allocations_total_2], ignore_index=True)\n",
    "allocations_cons = allocations_cons.rename(columns = {'allocation_sum':'Факт TY'})\n",
    "allocations_cons['СМ/DS'] = 'СМ'\n",
    "#delete empty rows\n",
    "allocations_cons = allocations_cons.dropna(subset=['Факт TY'])"
   ]
  },
  {
   "cell_type": "code",
   "execution_count": 17,
   "id": "f7f57a3f",
   "metadata": {},
   "outputs": [
    {
     "name": "stdout",
     "output_type": "stream",
     "text": [
      "Check: 0.0\n"
     ]
    }
   ],
   "source": [
    "#check, difference must be zero\n",
    "print('Check:', allocations_cons['Факт TY'].sum() - data_ue_pnl_others['Факт TY'].sum())"
   ]
  },
  {
   "cell_type": "code",
   "execution_count": 18,
   "id": "a42d431d",
   "metadata": {},
   "outputs": [],
   "source": [
    "#create df which includes courier cost\n",
    "data_ue_delivery_cost_2['Статья FBR'] = 'Расходы на доставку'\n",
    "data_ue_delivery_cost_2['Вид расходов'], data_ue_delivery_cost_2['СМ/DS'] = 'Прямые', 'СМ'"
   ]
  },
  {
   "cell_type": "code",
   "execution_count": 19,
   "id": "0a77b043",
   "metadata": {},
   "outputs": [],
   "source": [
    "#combine direct stores cost, allocations and darkstores:\n",
    "ue_final = pd.concat([allocations_cons, data_ue_pnl_stores_2, data_ue_pnl_darkstores_2, \n",
    "                      data_ue_delivery_cost_2], ignore_index=True)"
   ]
  },
  {
   "cell_type": "code",
   "execution_count": 20,
   "id": "3322e66b",
   "metadata": {},
   "outputs": [],
   "source": [
    "#create hierarchy\n",
    "h = data_ue_pnl[['Город', 'Макро']].drop_duplicates().reset_index(drop=True)\n",
    "#add macro to the main table\n",
    "ue_final = ue_final.merge(h, on='Город', how='left')"
   ]
  },
  {
   "cell_type": "code",
   "execution_count": 21,
   "id": "91535d34",
   "metadata": {},
   "outputs": [
    {
     "name": "stdout",
     "output_type": "stream",
     "text": [
      "Saving the file...\n"
     ]
    }
   ],
   "source": [
    "print('Saving the file...')"
   ]
  },
  {
   "cell_type": "code",
   "execution_count": 22,
   "id": "9caf92cf",
   "metadata": {},
   "outputs": [],
   "source": [
    "ue_final.to_excel(directory + 'ue_output.xlsx', index=False)"
   ]
  },
  {
   "cell_type": "code",
   "execution_count": null,
   "id": "eec751f8",
   "metadata": {},
   "outputs": [],
   "source": []
  }
 ],
 "metadata": {
  "kernelspec": {
   "display_name": "Python 3 (ipykernel)",
   "language": "python",
   "name": "python3"
  },
  "language_info": {
   "codemirror_mode": {
    "name": "ipython",
    "version": 3
   },
   "file_extension": ".py",
   "mimetype": "text/x-python",
   "name": "python",
   "nbconvert_exporter": "python",
   "pygments_lexer": "ipython3",
   "version": "3.11.2"
  }
 },
 "nbformat": 4,
 "nbformat_minor": 5
}
