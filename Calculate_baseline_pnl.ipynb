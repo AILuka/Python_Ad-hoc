{
 "cells": [
  {
   "cell_type": "markdown",
   "id": "62e4eba8",
   "metadata": {},
   "source": [
    "## PL baseline calculation (raw data for forecast)"
   ]
  },
  {
   "cell_type": "code",
   "execution_count": 7,
   "id": "6eed172f",
   "metadata": {},
   "outputs": [],
   "source": [
    "import pandas as pd \n",
    "import numpy as np\n",
    "import calendar\n",
    "from datetime import datetime\n",
    "import time\n",
    "import warnings\n",
    "warnings.filterwarnings('ignore')"
   ]
  },
  {
   "cell_type": "code",
   "execution_count": 8,
   "id": "fb33198a",
   "metadata": {},
   "outputs": [],
   "source": [
    "folder_path = 'p:/FD-Supermarket/Бюджеты/Мот. бюджеты/auto_mot_budget/'\n",
    "folder2 = 'Расчёт доли подстатьи/'\n",
    "folder3 =  'Расчёт baseline pnl/'\n",
    "folder4 =  'for info/'\n",
    "\n",
    "basic_pnl = pd.read_excel(folder_path+folder3+'in_базовый pnl.xlsx', header=0)"
   ]
  },
  {
   "cell_type": "code",
   "execution_count": 9,
   "id": "9f13f11b",
   "metadata": {},
   "outputs": [],
   "source": [
    "#Transform the table\n",
    "basic_pnl_2 = basic_pnl.melt(id_vars=['ЦФО', 'Название статьи узловая', 'Код статья узловая', 'Дата открытия', 'Дата закрытия',\n",
    "                          'Дата начала реконструкции', 'Дата окончания реконструкции']).rename(\n",
    "    columns={'variable':'Месяц', 'value':'Значение'})\n",
    "#def month_to_date(column):\n",
    "#    return datetime.strptime(column, \"%d.%m.%Y\")"
   ]
  },
  {
   "cell_type": "code",
   "execution_count": 11,
   "id": "c4622a1f",
   "metadata": {},
   "outputs": [],
   "source": [
    "#Calculate the total number of the days in a month\n",
    "def days_count(table):\n",
    "    date = table['Месяц']\n",
    "    return calendar.monthrange(date.year, date.month)[1]\n",
    "basic_pnl_2['Кол-во дней в месяце'] = basic_pnl_2.apply(days_count, axis=1)"
   ]
  },
  {
   "cell_type": "code",
   "execution_count": 12,
   "id": "ed83e576",
   "metadata": {},
   "outputs": [],
   "source": [
    "#Add last day of the month columns\n",
    "def end_of_the_month(table):\n",
    "    start_of_the_month, total_days = table['Месяц'], table['Кол-во дней в месяце']\n",
    "    return start_of_the_month.replace(day=total_days)\n",
    "basic_pnl_2['Конец месяца'] = basic_pnl_2.apply(end_of_the_month, axis=1)"
   ]
  },
  {
   "cell_type": "code",
   "execution_count": 13,
   "id": "936cd7f9",
   "metadata": {},
   "outputs": [],
   "source": [
    "#Calculate the number of working days:\n",
    "def active_days(table):\n",
    "    start_of_the_month, end_of_the_month = table['Месяц'], table['Конец месяца']\n",
    "    total_days = table['Кол-во дней в месяце']\n",
    "    opening_date, closing_date = table['Дата открытия'], table['Дата закрытия']\n",
    "    start_of_the_rcr = table['Дата начала реконструкции'] \n",
    "    finish_of_the_rcr = table['Дата окончания реконструкции']\n",
    "    if start_of_the_rcr >= start_of_the_month and start_of_the_rcr <= end_of_the_month:\n",
    "        active_days = (start_of_the_rcr - start_of_the_month).days\n",
    "    elif finish_of_the_rcr >= start_of_the_month and finish_of_the_rcr <= end_of_the_month:\n",
    "        active_days = (end_of_the_month - finish_of_the_rcr).days + 1\n",
    "    elif closing_date >= start_of_the_month and closing_date <= end_of_the_month:\n",
    "        active_days = (closing_date - start_of_the_month).days\n",
    "    elif opening_date >= start_of_the_month and opening_date <= end_of_the_month:\n",
    "        active_days = (end_of_the_month - opening_date).days + 1\n",
    "    elif start_of_the_rcr < start_of_the_month and finish_of_the_rcr > end_of_the_month:\n",
    "        active_days = 0\n",
    "    elif start_of_the_month > closing_date:\n",
    "        active_days = 0\n",
    "    elif end_of_the_month < opening_date:\n",
    "        active_days = 0\n",
    "    else: \n",
    "        active_days = total_days\n",
    "    return active_days\n",
    "basic_pnl_2['Рабочие дни'] = basic_pnl_2.apply(active_days, axis=1)"
   ]
  },
  {
   "cell_type": "code",
   "execution_count": 14,
   "id": "6b99c0c2",
   "metadata": {},
   "outputs": [],
   "source": [
    "#Add \"full month\" attribute\n",
    "basic_pnl_2['Полный месяц'] = basic_pnl_2['Кол-во дней в месяце'] == basic_pnl_2['Рабочие дни']"
   ]
  },
  {
   "cell_type": "code",
   "execution_count": 15,
   "id": "e3f5b845",
   "metadata": {},
   "outputs": [],
   "source": [
    "#Create a table including only the full months\n",
    "basic_pnl_full_month = basic_pnl_2[basic_pnl_2['Полный месяц']==True]\n",
    "#Calculate the values for full months\n",
    "basic_pnl_full_month2 = basic_pnl_full_month.groupby(\n",
    "    ['ЦФО', 'Код статья узловая'], as_index=False).agg({'Значение':'mean'})\n",
    "basic_pnl_full_month2 = basic_pnl_full_month2.rename(columns={'Значение':'Среднемесячное значение'})"
   ]
  },
  {
   "cell_type": "code",
   "execution_count": 16,
   "id": "5bc2c577",
   "metadata": {},
   "outputs": [],
   "source": [
    "#Add monthly average values to the budget table\n",
    "basic_pnl_4 = basic_pnl_2.merge(basic_pnl_full_month2, on=['ЦФО', 'Код статья узловая'], how='left')\n",
    "#Fill the column with avg  Заполняем столбец значений средними там, где неполный месяц\n",
    "def avg_month(table):\n",
    "    value = table['Значение']\n",
    "    avg_value = table['Среднемесячное значение']\n",
    "    if table['Полный месяц'] == False:\n",
    "        return avg_value\n",
    "    else: \n",
    "        return value\n",
    "basic_pnl_4['Итоговое значение'] = basic_pnl_4.apply(avg_month, axis=1)"
   ]
  },
  {
   "cell_type": "code",
   "execution_count": 17,
   "id": "9a14631b",
   "metadata": {},
   "outputs": [],
   "source": [
    "basic_pnl_5 = basic_pnl_4[['ЦФО', 'Код статья узловая', 'Месяц', 'Итоговое значение']]\n",
    "basic_pnl_5.to_csv(\n",
    "    folder_path+folder3+'out_baseline_pnl.csv', index=False, encoding='cp1251',sep = ';')"
   ]
  },
  {
   "cell_type": "code",
   "execution_count": null,
   "id": "bd9f0d7e",
   "metadata": {},
   "outputs": [],
   "source": []
  }
 ],
 "metadata": {
  "kernelspec": {
   "display_name": "Python 3 (ipykernel)",
   "language": "python",
   "name": "python3"
  },
  "language_info": {
   "codemirror_mode": {
    "name": "ipython",
    "version": 3
   },
   "file_extension": ".py",
   "mimetype": "text/x-python",
   "name": "python",
   "nbconvert_exporter": "python",
   "pygments_lexer": "ipython3",
   "version": "3.12.1"
  }
 },
 "nbformat": 4,
 "nbformat_minor": 5
}
