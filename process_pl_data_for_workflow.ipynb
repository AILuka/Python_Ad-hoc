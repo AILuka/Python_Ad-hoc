{
 "cells": [
  {
   "cell_type": "code",
   "execution_count": 1,
   "id": "fab80144-8286-4798-8dbd-cd12ab1ea3ff",
   "metadata": {},
   "outputs": [],
   "source": [
    "import pandas as pd\n",
    "from tkinter import *\n",
    "import tkinter as ttk\n",
    "import os\n",
    "from fuzzywuzzy import fuzz\n",
    "from fuzzywuzzy import process"
   ]
  },
  {
   "cell_type": "code",
   "execution_count": 2,
   "id": "9a378a7d-9975-426a-a362-6a204c84528f",
   "metadata": {},
   "outputs": [],
   "source": [
    "#get data from entry field, workbook name\n",
    "def show_message():\n",
    "    global directory\n",
    "    global workbook_name \n",
    "    directory = entry.get()\n",
    "    workbook_name = entry2.get()\n",
    "    root.destroy()\n",
    "\n",
    "# create a window with the input of workbook name\n",
    "root = Tk()\n",
    "root.title(\"Inputs\")\n",
    "root.geometry(\"400x150+500+300\") \n",
    "\n",
    "lbl_1 = Label(root, text='Enter a file directory:')\n",
    "lbl_1.place(x = 10, y = 10) \n",
    "\n",
    "entry = ttk.Entry(width=60)\n",
    "entry.place(x = 10, y = 30) \n",
    "#defauld entry text\n",
    "entry.insert(0, os.getcwd())\n",
    "\n",
    "lbl_2 = Label(root, text='Enter an original file name:')\n",
    "lbl_2.place(x = 10, y = 60) \n",
    "\n",
    "entry2 = ttk.Entry(width=60)\n",
    "entry2.place(x = 10, y = 80)\n",
    "#defauld entry text\n",
    "entry2.insert(0, 'in_staff_raw_data.xlsx')\n",
    "\n",
    "btn = ttk.Button(text=\"Start\", command=show_message)\n",
    "btn.place(x = 10, y = 110) \n",
    "\n",
    "root.mainloop()"
   ]
  },
  {
   "cell_type": "code",
   "execution_count": 3,
   "id": "d3ff436d-3ddd-43e4-a4e1-d0f19e71b967",
   "metadata": {},
   "outputs": [
    {
     "name": "stdout",
     "output_type": "stream",
     "text": [
      "Doing the math, wait a minute...\n"
     ]
    }
   ],
   "source": [
    "print('Doing the math, wait a minute...')"
   ]
  },
  {
   "cell_type": "markdown",
   "id": "afd2bffc-ebe1-4a92-a431-b583c22d4943",
   "metadata": {},
   "source": [
    "### Calculation"
   ]
  },
  {
   "cell_type": "code",
   "execution_count": 4,
   "id": "cf0fc2bd-7d0a-48c6-971d-8e9fdccef72c",
   "metadata": {},
   "outputs": [],
   "source": [
    "#create a python directiry format\n",
    "directory = directory.replace(\"\\\\\",\"/\")+'/'\n",
    "file_inputs = 'Inputs.xlsx'\n",
    "\n",
    "#upload files\n",
    "inputs_fx = pd.read_excel(directory+file_inputs, sheet_name='FX', header=0)\n",
    "inputs_ranges = pd.read_excel(directory+file_inputs, sheet_name='Ranges', header=0)\n",
    "staff_raw_data = pd.read_excel(directory+workbook_name, header=1)"
   ]
  },
  {
   "cell_type": "code",
   "execution_count": 5,
   "id": "a9726c37-c81a-4758-9e2d-884410ebe2dd",
   "metadata": {},
   "outputs": [
    {
     "name": "stdout",
     "output_type": "stream",
     "text": [
      "Staff_raw_data has been uploaded\n"
     ]
    }
   ],
   "source": [
    "print('Staff_raw_data has been uploaded')"
   ]
  },
  {
   "cell_type": "code",
   "execution_count": 6,
   "id": "9ffed9d0-d3e7-4827-8265-6efd79ee3cb9",
   "metadata": {},
   "outputs": [],
   "source": [
    "#create a table of FX incl. all currencies for correction with LE\n",
    "list_fx_le = inputs_fx[inputs_fx['Legal Entity'].notnull()]\n",
    "#create a list incl. all currencies for correction without LE\n",
    "list_fx_wo_le = inputs_fx[inputs_fx['Legal Entity'].isnull()]['Currency'].to_list()"
   ]
  },
  {
   "cell_type": "code",
   "execution_count": 7,
   "id": "ac6e6e60-cfef-4341-9557-32d51d21b3f2",
   "metadata": {},
   "outputs": [],
   "source": [
    "#create a copy of raw data to make changes\n",
    "staff_corr = staff_raw_data.copy()"
   ]
  },
  {
   "cell_type": "code",
   "execution_count": 8,
   "id": "3902a1fb-a0d3-49d2-850b-820fe52d205d",
   "metadata": {},
   "outputs": [],
   "source": [
    "#create a dataframe containing adjustable currencies wo LE filter\n",
    "staff_fx_part_1 = staff_corr[staff_corr['Currency'].isin(list_fx_wo_le)]\n",
    "#create a dataframe containing adjustable currencies with LE filter\n",
    "staff_fx_part_2 = staff_corr.merge(list_fx_le, on =['Currency', 'Legal Entity'], how='inner')"
   ]
  },
  {
   "cell_type": "code",
   "execution_count": 9,
   "id": "502ac408-905f-48ab-8a8b-f4f3a5d2f988",
   "metadata": {},
   "outputs": [],
   "source": [
    "#create a dataframe containing all adjustable currencies\n",
    "staff_fx = pd.concat([staff_fx_part_1, staff_fx_part_2])"
   ]
  },
  {
   "cell_type": "code",
   "execution_count": 10,
   "id": "764a9013-de22-478e-9e4f-f4992d5eeec3",
   "metadata": {},
   "outputs": [],
   "source": [
    "#create a list of columns in ranges:\n",
    "hours_columns = list(range(inputs_ranges.loc[inputs_ranges['Range']=='Hours']['First column'].values[0] - 1, \n",
    "                      inputs_ranges.loc[inputs_ranges['Range']=='Hours']['Last column'].values[0]))\n",
    "\n",
    "original_curr_columns = list(range(\n",
    "    inputs_ranges.loc[inputs_ranges['Range']=='Original currency values']['First column'].values[0] - 1, \n",
    "                      inputs_ranges.loc[inputs_ranges['Range']=='Original currency values']['Last column'].values[0]))\n",
    "\n",
    "usd_curr_columns = list(range(\n",
    "    inputs_ranges.loc[inputs_ranges['Range']=='USD currency values']['First column'].values[0] - 1, \n",
    "                      inputs_ranges.loc[inputs_ranges['Range']=='USD currency values']['Last column'].values[0]))"
   ]
  },
  {
   "cell_type": "code",
   "execution_count": 11,
   "id": "656c5ccd-c4f9-4ff9-a9b6-bae50839add6",
   "metadata": {},
   "outputs": [],
   "source": [
    "#create a dataframe with a reversal numbers \n",
    "staff_fx_reversal = staff_fx.copy()\n",
    "staff_fx_reversal.iloc[:, hours_columns + original_curr_columns + usd_curr_columns] = staff_fx.iloc[:,\n",
    "                                            hours_columns + original_curr_columns + usd_curr_columns] * -1"
   ]
  },
  {
   "cell_type": "code",
   "execution_count": 12,
   "id": "e060b987-b29e-44b5-87fb-840312e19bb0",
   "metadata": {},
   "outputs": [],
   "source": [
    "#Create a dataframe containing adjusted currencies (original in USD)\n",
    "staff_fx_adj = staff_fx.copy()\n",
    "staff_fx_adj.iloc[:, original_curr_columns] = staff_fx_adj.iloc[:, usd_curr_columns]\n",
    "staff_fx_adj['Currency'] = 'USD'\n",
    "staff_fx_adj['FX Rate'] = 1"
   ]
  },
  {
   "cell_type": "code",
   "execution_count": 13,
   "id": "06a864be-11bc-4a70-8dba-762e48ec1f0c",
   "metadata": {},
   "outputs": [],
   "source": [
    "#consolidate dataframes\n",
    "staff_fx_combined = pd.concat([staff_corr, staff_fx_reversal, staff_fx_adj])"
   ]
  },
  {
   "cell_type": "markdown",
   "id": "54dc9e32-874c-4154-9be3-34e80b99b393",
   "metadata": {},
   "source": [
    "### Process FBU names 1-to-1 FP-FBU relationship"
   ]
  },
  {
   "cell_type": "code",
   "execution_count": 14,
   "id": "17bff762-0fee-493e-b9d7-af80880a44e7",
   "metadata": {},
   "outputs": [],
   "source": [
    "#add data from MDS\n",
    "mds = pd.read_excel(directory+'in_MDS.xlsx', header=0)"
   ]
  },
  {
   "cell_type": "code",
   "execution_count": 15,
   "id": "907b0f88-08f5-418c-88f5-68a41609835b",
   "metadata": {},
   "outputs": [],
   "source": [
    "#keep only FP and FBU GUIDs\n",
    "mds_2 = mds[['BusinessUnit_Id', 'EDBU_id', 'ED_FBU_Name']].drop_duplicates().reset_index(drop=True).fillna('N/A').rename(\n",
    "    columns={'EDBU_id':'FBU_GUID_mds', 'BusinessUnit_Id':'FP_GUID_mds', 'ED_FBU_Name':'FBU_Name_mds'})\n",
    "#Add count to identify 1-to-1 FP to FBU or 1-to-many FP to FBU)\n",
    "mds_2['Count'] = mds_2.groupby('FP_GUID_mds')['FP_GUID_mds'].transform('count')"
   ]
  },
  {
   "cell_type": "code",
   "execution_count": 16,
   "id": "34b55109-e7f0-4e04-8578-d49dc940fac5",
   "metadata": {},
   "outputs": [
    {
     "name": "stdout",
     "output_type": "stream",
     "text": [
      "MDS data frame has been uploaded\n"
     ]
    }
   ],
   "source": [
    "print('MDS data frame has been uploaded')"
   ]
  },
  {
   "cell_type": "code",
   "execution_count": 17,
   "id": "3aa98103-f420-4541-a548-e4295e722caa",
   "metadata": {},
   "outputs": [],
   "source": [
    "#add data from BU_params\n",
    "bu_params = pd.read_excel(directory+'in_BU_Params.xlsx', sheet_name='BU Param', header=0)"
   ]
  },
  {
   "cell_type": "code",
   "execution_count": 18,
   "id": "5af824ee-7ba4-4722-ac09-a3a043d3bf09",
   "metadata": {},
   "outputs": [
    {
     "name": "stdout",
     "output_type": "stream",
     "text": [
      "BU_params data frame has been uploaded\n"
     ]
    }
   ],
   "source": [
    "print('BU_params data frame has been uploaded')"
   ]
  },
  {
   "cell_type": "code",
   "execution_count": 19,
   "id": "bee0f466-d06a-4726-ba47-b1c36d4f0ffb",
   "metadata": {},
   "outputs": [],
   "source": [
    "#keep only FBU GUID and FBU name\n",
    "bu_params = bu_params[['BusinessUnits guid', 'BusinessUnits']].drop_duplicates().reset_index(drop=True).rename(\n",
    "    columns={'BusinessUnits guid':'FBU_GUID_params', 'BusinessUnits':'FBU_name_params'})"
   ]
  },
  {
   "cell_type": "code",
   "execution_count": 20,
   "id": "11672ed7-0715-46f5-81b8-0943f0b7931e",
   "metadata": {},
   "outputs": [],
   "source": [
    "#Add data from BU_params\n",
    "mds_3 = mds_2.merge(bu_params, left_on='FBU_GUID_mds', right_on='FBU_GUID_params', how='left')\n",
    "#Create mapping FP_GUID - FBU_name. keep only FP GUIDs mapped 1-to-1 to FBU (remove FP GUIDs mapped 1-to-many FBU)\n",
    "FBU_names_1to1 = mds_3.loc[mds_3['Count']==1].drop(['Count', 'FBU_GUID_mds', 'FBU_GUID_params', 'FBU_Name_mds'], axis='columns')\n",
    "FBU_names_1to1['mapping_type'] = '1-to-1 FP-FBU relationship'"
   ]
  },
  {
   "cell_type": "code",
   "execution_count": 21,
   "id": "ba658de7-e014-4149-a15f-6983a87a4cdd",
   "metadata": {},
   "outputs": [],
   "source": [
    "#Identify incorrect FBU names in staff df\n",
    "staff_fx_combined['Correct_FBU_name'] = staff_fx_combined['Business Unit'].isin(\n",
    "    set(bu_params['FBU_name_params']))\n",
    "#add correct FBU names from BU params\n",
    "staff_fx_combined_2 = staff_fx_combined.merge(FBU_names_1to1, left_on='Fin Project GUID', right_on='FP_GUID_mds', how='left')"
   ]
  },
  {
   "cell_type": "markdown",
   "id": "d583a750-63bc-43ef-be49-950b8271f352",
   "metadata": {},
   "source": [
    "### Fuzzy lookup 1-to-many FP-FBU relationship"
   ]
  },
  {
   "cell_type": "code",
   "execution_count": 22,
   "id": "f0c4151d-64f9-4c05-81ca-a3e63a24c555",
   "metadata": {},
   "outputs": [],
   "source": [
    "#Create mapping keeping FP GUIDs mapped 1-to-many FBU, for fuzzy lookup\n",
    "FBU_names_fuzzy = mds_3.loc[mds_3['Count']!=1].drop(['Count', 'FBU_GUID_mds', 'FBU_GUID_params', 'FBU_Name_mds'], axis='columns')"
   ]
  },
  {
   "cell_type": "code",
   "execution_count": 23,
   "id": "49e9396e-4fbf-4d37-9d0f-aba38af85dfa",
   "metadata": {},
   "outputs": [],
   "source": [
    "#Create a list of FBU from staff data that contains only FBU with 1-to-many relationship for FP-FBU\n",
    "fuzzy_FBU = (staff_fx_combined_2.loc[(staff_fx_combined_2['Correct_FBU_name']==False) & (staff_fx_combined_2['FBU_name_params']\n",
    "             .isnull())][['Business Unit', 'Fin Project GUID']]\n",
    "             .drop_duplicates()\n",
    "             .reset_index(drop=True))"
   ]
  },
  {
   "cell_type": "code",
   "execution_count": 24,
   "id": "20fa8537-c327-4de8-add0-d97271c42afc",
   "metadata": {},
   "outputs": [],
   "source": [
    "#Add FBU_name_params for Fuzzy lookup \n",
    "fuzzy_FBU_2 = (fuzzy_FBU.merge(FBU_names_fuzzy, left_on='Fin Project GUID', right_on='FP_GUID_mds', how='left')\n",
    "               .drop(['Fin Project GUID'], axis='columns'))"
   ]
  },
  {
   "cell_type": "code",
   "execution_count": 33,
   "id": "83175530-7d32-449e-a582-4e9a024fc976",
   "metadata": {},
   "outputs": [],
   "source": [
    "#Find Levenshtein Distance to calculate the differences between FBU names\n",
    "try:\n",
    "    fuzzy_FBU_2['fuzz_ratio'] = (fuzzy_FBU_2.apply(\n",
    "        lambda x: fuzz.ratio(x['Business Unit'], x['FBU_name_params']), axis=1))\n",
    "except:\n",
    "    fuzzy_FBU_2['fuzz_ratio'] = []"
   ]
  },
  {
   "cell_type": "code",
   "execution_count": 34,
   "id": "7294da99-7839-4f61-ae96-df8a515c115d",
   "metadata": {},
   "outputs": [],
   "source": [
    "# Group by 'FP_GUID_mds' and find the index of the max 'fuzz_ratio' for each group\n",
    "idx = fuzzy_FBU_2.groupby('FP_GUID_mds')['fuzz_ratio'].idxmax()\n",
    "# Filter the DataFrame to keep only the rows with the max 'fuzz_ratio' in each group\n",
    "FBU_names_1to_many = fuzzy_FBU_2.loc[idx].drop(['Business Unit', 'fuzz_ratio'], axis='columns')\n",
    "FBU_names_1to_many['mapping_type'] = '1-to-many FP-FBU relationship'"
   ]
  },
  {
   "cell_type": "markdown",
   "id": "bad37b4c-4d26-4057-9c1b-1afa7fe089eb",
   "metadata": {},
   "source": [
    "### Combine mappings and replace FBU names"
   ]
  },
  {
   "cell_type": "code",
   "execution_count": 36,
   "id": "65e16487-e43b-4357-9fc2-85f42032e6d5",
   "metadata": {},
   "outputs": [],
   "source": [
    "#combine both mappings into one data frame\n",
    "FBU_names_final = pd.concat([FBU_names_1to1, FBU_names_1to_many], ignore_index=True)"
   ]
  },
  {
   "cell_type": "code",
   "execution_count": 37,
   "id": "ffe5b7c3-e001-4653-9a27-9d1268984492",
   "metadata": {},
   "outputs": [],
   "source": [
    "#Remove columns in order to add it again from the combined mapping\n",
    "staff_fx_combined_3 = staff_fx_combined_2.drop(['FP_GUID_mds', 'FBU_name_params', 'mapping_type'], axis='columns')\n",
    "#add correct FBU names from combined mapping\n",
    "staff_fx_combined_4 = staff_fx_combined_3.merge(FBU_names_final, left_on='Fin Project GUID', right_on='FP_GUID_mds', how='left')"
   ]
  },
  {
   "cell_type": "code",
   "execution_count": 43,
   "id": "489015ba-e1e7-445d-84c1-8555374cfb62",
   "metadata": {},
   "outputs": [],
   "source": [
    "#replace values of incorrect FBU\n",
    "def replace_business_unit(row):\n",
    "    if not row['Correct_FBU_name'] and pd.notna(row['FBU_name_params']):\n",
    "        return row['FBU_name_params']\n",
    "    else:\n",
    "        return row['Business Unit']\n",
    "staff_fx_combined_4['Business Unit'] = staff_fx_combined_4.apply(replace_business_unit, axis=1)\n",
    "staff_fx_combined_4 = staff_fx_combined_4.drop(['Correct_FBU_name', 'FP_GUID_mds', 'FBU_name_params', 'mapping_type'], axis='columns')"
   ]
  },
  {
   "cell_type": "markdown",
   "id": "5366975e-f15b-49c6-a6b3-8c2730174514",
   "metadata": {},
   "source": [
    "Uncomment the row above to remove additional columns"
   ]
  },
  {
   "cell_type": "code",
   "execution_count": 39,
   "id": "7c3c8c07-10f4-4189-a932-8a1df17c61cb",
   "metadata": {},
   "outputs": [
    {
     "name": "stdout",
     "output_type": "stream",
     "text": [
      "Saving the finished staff_wo_iwo file...\n"
     ]
    }
   ],
   "source": [
    "print('Saving the finished staff_wo_iwo file...')"
   ]
  },
  {
   "cell_type": "code",
   "execution_count": 40,
   "id": "c4ad8ba8-3fe7-45a2-bb5b-39481af26063",
   "metadata": {},
   "outputs": [],
   "source": [
    "#save to output file to excel\n",
    "staff_fx_out = staff_fx_combined_4.copy()\n",
    "staff_fx_out.to_excel(directory + 'out_staff_wo_iwo.xlsx', index=False)"
   ]
  },
  {
   "cell_type": "markdown",
   "id": "ab34dadf-53de-435b-adb1-1b545cb56be6",
   "metadata": {},
   "source": [
    "### Check"
   ]
  },
  {
   "cell_type": "code",
   "execution_count": 41,
   "id": "6e86109b-ef57-4978-bd8b-3abff7fae900",
   "metadata": {},
   "outputs": [],
   "source": [
    "#Calculate sum of USD amount before and after the correction\n",
    "Amount_USD_before = round(staff_raw_data['Total Salaries_USD'].sum(), 1)\n",
    "Amount_USD_after = round(staff_fx_out['Total Salaries_USD'].sum(), 1)\n",
    "#Calculate sum of work hours amount before and after correction\n",
    "Amount_Hours_before = round(staff_raw_data['Work hours'].sum(), 1)\n",
    "Amount_Hours_after = round(staff_fx_out['Work hours'].sum(), 1)\n",
    "#Calculate how many new rows were created in out data frame compare to raw_data df\n",
    "New_rows = staff_fx_out.shape[0] - staff_raw_data.shape[0]"
   ]
  },
  {
   "cell_type": "code",
   "execution_count": 42,
   "id": "e493992b-9fe3-4f2b-b063-f8c053d48b18",
   "metadata": {},
   "outputs": [],
   "source": [
    "window = Tk() \n",
    "#create a title\n",
    "window.title('Result')\n",
    "#set the size of the window and the place on the screen\n",
    "window.geometry(\"300x200+500+300\") \n",
    "#creating labels\n",
    "label_1 = Label(window, text='Amount USD before: '+str(Amount_USD_before)).place(x = 30, y = 10) \n",
    "label_2 = Label(window, text='Amount USD after: '+str(Amount_USD_after)).place(x = 30, y = 30) \n",
    "label_3 = Label(window, text='Difference: '+str(Amount_USD_after-Amount_USD_before)).place(x = 30, y = 50) \n",
    "\n",
    "label_4 = Label(window, text='Amount of Work hours before: '+str(Amount_Hours_before)).place(x = 30, y = 80) \n",
    "label_5 = Label(window, text='Amount of Work hours after: '+str(Amount_Hours_after)).place(x = 30, y = 100) \n",
    "label_6 = Label(window, text='Difference: '+str(Amount_Hours_after-Amount_Hours_before)).place(x = 30, y = 120) \n",
    "\n",
    "label_7 = Label(window, text='New rows have been created: '+str(New_rows)).place(x = 30, y = 150) \n",
    "\n",
    "window.mainloop() "
   ]
  },
  {
   "cell_type": "code",
   "execution_count": null,
   "id": "8dd6f97f-1661-4b19-9b9e-7f0340b4c671",
   "metadata": {},
   "outputs": [],
   "source": []
  }
 ],
 "metadata": {
  "kernelspec": {
   "display_name": "Python 3 (ipykernel)",
   "language": "python",
   "name": "python3"
  },
  "language_info": {
   "codemirror_mode": {
    "name": "ipython",
    "version": 3
   },
   "file_extension": ".py",
   "mimetype": "text/x-python",
   "name": "python",
   "nbconvert_exporter": "python",
   "pygments_lexer": "ipython3",
   "version": "3.12.1"
  }
 },
 "nbformat": 4,
 "nbformat_minor": 5
}
