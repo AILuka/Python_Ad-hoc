{
 "cells": [
  {
   "cell_type": "markdown",
   "metadata": {},
   "source": [
    "# Парсинг:"
   ]
  },
  {
   "cell_type": "code",
   "execution_count": 71,
   "metadata": {},
   "outputs": [],
   "source": [
    "import pandas as pd\n",
    "import numpy as np\n",
    "import requests\n",
    "from bs4 import BeautifulSoup\n",
    "from tqdm import tqdm\n",
    "from fuzzywuzzy import fuzz \n",
    "from fuzzywuzzy import process"
   ]
  },
  {
   "cell_type": "code",
   "execution_count": 72,
   "metadata": {},
   "outputs": [],
   "source": [
    "#Параметры:\n",
    "\n",
    "#Файл со ссылками\"\n",
    "output_file_list = r'z:/For Office/Ignatov/Python/parsing/links_list.xlsx'\n",
    "\n",
    "#Файл с результатом парсинга:\n",
    "output_file_parsing_report = r'z:/For Office/Ignatov/Python/parsing/parser_base.xlsx'\n",
    "\n",
    "#Файл с байерским отчётом:\n",
    "input_buyer_report = r'z:/For Office/Ignatov/Отчеты/01-Еженедельные/Байерский отчёт/ru.xlsx'\n",
    "\n",
    "#Файл с листом сопоставлений:\n",
    "input_mathing_list = r'z:/For Office/Ignatov/Python/parsing/matching_list.xlsx'\n",
    "\n",
    "#Файл итоговый объединенный отчёт:\n",
    "output_file_parsing_final = r'z:/For Office/Ignatov/Python/parsing/parsing_final.xlsx'\n",
    "\n",
    "#Кол-во страниц для парсинга\n",
    "parsing_pages_count = 2000"
   ]
  },
  {
   "cell_type": "code",
   "execution_count": 73,
   "metadata": {},
   "outputs": [
    {
     "name": "stderr",
     "output_type": "stream",
     "text": [
      "100%|██████████████████████████████████████████████████████████████████████████████| 1999/1999 [58:43<00:00,  1.76s/it]"
     ]
    },
    {
     "name": "stdout",
     "output_type": "stream",
     "text": [
      "53081\n"
     ]
    },
    {
     "name": "stderr",
     "output_type": "stream",
     "text": [
      "\n"
     ]
    }
   ],
   "source": [
    "list_pages = []\n",
    "for i in tqdm(range(1 , parsing_pages_count)):\n",
    "    URL = 'https://www.detmir.ru/search/results/order/price-desc/page/'+str(i)\n",
    "    req = requests.get(URL)\n",
    "    soup_page = BeautifulSoup(req.text, 'lxml')\n",
    "    for row in soup_page.find_all('a', attrs = {'class':'KS kD'}):\n",
    "        list_pages.append('https://www.detmir.ru'+row.attrs[\"href\"])\n",
    "print(len(list_pages))"
   ]
  },
  {
   "cell_type": "code",
   "execution_count": 74,
   "metadata": {},
   "outputs": [],
   "source": [
    "#Сохраняем список ссылок в exel:\n",
    "links_list = pd.DataFrame(list_pages)\n",
    "links_list.to_excel(output_file_list, index=False)"
   ]
  },
  {
   "cell_type": "code",
   "execution_count": 75,
   "metadata": {},
   "outputs": [],
   "source": [
    "#Загружаем список ссылок обратно в p:\n",
    "list_pages = pd.read_excel(output_file_list, header=0)\n",
    "#Преобразуем в список:\n",
    "list_pages.columns = ['URL']\n",
    "list_pages = list_pages['URL'].tolist()"
   ]
  },
  {
   "cell_type": "code",
   "execution_count": 76,
   "metadata": {},
   "outputs": [
    {
     "name": "stderr",
     "output_type": "stream",
     "text": [
      "100%|██████████████████████████████████████████████████████████████████████████| 53081/53081 [5:19:34<00:00,  2.77it/s]\n"
     ]
    }
   ],
   "source": [
    "table = pd.DataFrame()\n",
    "\n",
    "for element in tqdm(list_pages):\n",
    "    req = requests.get(element)\n",
    "    soup_page = BeautifulSoup(req.text, 'lxml') \n",
    "    #Сбор иерархии\n",
    "    #hierarchy_lvl_1\n",
    "    try:\n",
    "        hierarchy_lvl_1 = soup_page.find_all('a', attrs = {'class':'II'})[1].text\n",
    "    except:\n",
    "        hierarchy_lvl_1 = float('NaN')\n",
    "    #hierarchy_lvl_2\n",
    "    try:\n",
    "        hierarchy_lvl_2 = soup_page.find_all('a', attrs = {'class':'II'})[2].text\n",
    "    except:\n",
    "        hierarchy_lvl_2 = float('NaN')    \n",
    "    #hierarchy_lvl_3\n",
    "    try:\n",
    "        hierarchy_lvl_3 = soup_page.find_all('a', attrs = {'class':'II'})[3].text\n",
    "    except:\n",
    "        hierarchy_lvl_3 = float('NaN')    \n",
    "    #hierarchy_lvl_4\n",
    "    try:\n",
    "        hierarchy_lvl_4 = soup_page.find_all('a', attrs = {'class':'II'})[4].text\n",
    "    except:\n",
    "        hierarchy_lvl_4 = float('NaN')   \n",
    "    # Наименование товара\n",
    "    try:\n",
    "        name_item = soup_page.find('h1', attrs = {'class':'Gv'}).text\n",
    "    except:\n",
    "        name_item = float('NaN')\n",
    "    # Бренд\n",
    "    try:    \n",
    "        brand = soup_page.find('p', attrs = {'class':'Pk'}).text\n",
    "    except:\n",
    "        brand = float('NaN')\n",
    "    #item включает номер артикула и код товара:\n",
    "    try:\n",
    "        item = soup_page.find('ul', attrs = {'class':'eJ rQ rq eK'}).text\n",
    "    except:\n",
    "        item = float('NaN')\n",
    "    #item_art включает номер артикула:\n",
    "    try:\n",
    "        item_art = (item.split('Код товара')[0]).partition('Артикул ')[2]\n",
    "    except:\n",
    "        item_art = float('NaN')\n",
    "    #item_good включает код товара:\n",
    "    try:\n",
    "        item_goods = item.partition('Код товара ')[2]\n",
    "    except:\n",
    "        item_goods = float('NaN')\n",
    "    # Текущая цена\n",
    "    try:   \n",
    "        current_price = soup_page.find('div', attrs = {'class':'qa'}).text\n",
    "    except:\n",
    "        current_price = float('NaN')\n",
    "    # Прошлая цена\n",
    "    try:\n",
    "        previous_price = soup_page.find('span', attrs = {'class':'qb'}).text\n",
    "    except:\n",
    "        previous_price = current_price\n",
    "    # Кол-во отзывов   \n",
    "    try:\n",
    "        feedbacks = soup_page.find('span', attrs = {'class':'rl'}).text\n",
    "    except:\n",
    "        feedbacks = float('NaN')\n",
    "    #считываем кол-во строк с текстом '90oSMiN', это соответвтует кол-ву 0,5 звёзд\n",
    "    try:\n",
    "        rating = int(str(soup_page.find_all('div', attrs = {'class':'Ls LV rR'})).count('Lt LU')) / 2\n",
    "    except:\n",
    "        rating = float('NaN')\n",
    "    new_row = pd.Series([element, hierarchy_lvl_1, hierarchy_lvl_2, hierarchy_lvl_3, hierarchy_lvl_4,\n",
    "                     name_item, brand, item_art, item_goods, current_price, previous_price, feedbacks, rating])    \n",
    "    table = table.append(new_row, ignore_index=True)    "
   ]
  },
  {
   "cell_type": "code",
   "execution_count": 77,
   "metadata": {},
   "outputs": [],
   "source": [
    "table.columns = ['link', 'hierarchy_lvl_1', 'hierarchy_lvl_2', 'hierarchy_lvl_3', 'hierarchy_lvl_4',\n",
    "                     'name_item', 'brand', 'item_art', 'item_goods', 'current_price', 'previous_price', 'feedbacks', 'rating']"
   ]
  },
  {
   "cell_type": "code",
   "execution_count": 78,
   "metadata": {
    "scrolled": true
   },
   "outputs": [
    {
     "data": {
      "text/html": [
       "<div>\n",
       "<style scoped>\n",
       "    .dataframe tbody tr th:only-of-type {\n",
       "        vertical-align: middle;\n",
       "    }\n",
       "\n",
       "    .dataframe tbody tr th {\n",
       "        vertical-align: top;\n",
       "    }\n",
       "\n",
       "    .dataframe thead th {\n",
       "        text-align: right;\n",
       "    }\n",
       "</style>\n",
       "<table border=\"1\" class=\"dataframe\">\n",
       "  <thead>\n",
       "    <tr style=\"text-align: right;\">\n",
       "      <th></th>\n",
       "      <th>link</th>\n",
       "      <th>hierarchy_lvl_1</th>\n",
       "      <th>hierarchy_lvl_2</th>\n",
       "      <th>hierarchy_lvl_3</th>\n",
       "      <th>hierarchy_lvl_4</th>\n",
       "      <th>name_item</th>\n",
       "      <th>brand</th>\n",
       "      <th>item_art</th>\n",
       "      <th>item_goods</th>\n",
       "      <th>current_price</th>\n",
       "      <th>previous_price</th>\n",
       "      <th>feedbacks</th>\n",
       "      <th>rating</th>\n",
       "    </tr>\n",
       "  </thead>\n",
       "  <tbody>\n",
       "    <tr>\n",
       "      <th>0</th>\n",
       "      <td>https://www.detmir.ru/product/index/id/1000053...</td>\n",
       "      <td>Прогулки и путешествия</td>\n",
       "      <td>Детские коляски</td>\n",
       "      <td>Детские коляски 2 в 1</td>\n",
       "      <td>NaN</td>\n",
       "      <td>Коляска Bugaboo Fox 2в1  Grey Melange base Black</td>\n",
       "      <td>Bugaboo</td>\n",
       "      <td></td>\n",
       "      <td>1000053655nbr</td>\n",
       "      <td>99 044 ₽</td>\n",
       "      <td>99 044 ₽</td>\n",
       "      <td>Оставить отзыв</td>\n",
       "      <td>0.0</td>\n",
       "    </tr>\n",
       "    <tr>\n",
       "      <th>1</th>\n",
       "      <td>https://www.detmir.ru/product/index/id/3137610/</td>\n",
       "      <td>Прогулки и путешествия</td>\n",
       "      <td>Детские коляски</td>\n",
       "      <td>Детские коляски 2 в 1</td>\n",
       "      <td>NaN</td>\n",
       "      <td>Коляска 2в1 Bugaboo Fox Classic Complete Black...</td>\n",
       "      <td>Bugaboo</td>\n",
       "      <td>239171AE01</td>\n",
       "      <td>1000072639</td>\n",
       "      <td>97 289 ₽</td>\n",
       "      <td>97 289 ₽</td>\n",
       "      <td>Оставить отзыв</td>\n",
       "      <td>0.0</td>\n",
       "    </tr>\n",
       "    <tr>\n",
       "      <th>2</th>\n",
       "      <td>https://www.detmir.ru/product/index/id/3137621/</td>\n",
       "      <td>Прогулки и путешествия</td>\n",
       "      <td>Детские коляски</td>\n",
       "      <td>Детские коляски 2 в 1</td>\n",
       "      <td>NaN</td>\n",
       "      <td>Коляска 2в1 Bugaboo Fox Classic Complete Black...</td>\n",
       "      <td>Bugaboo</td>\n",
       "      <td>239171AI01</td>\n",
       "      <td>1000072650</td>\n",
       "      <td>97 289 ₽</td>\n",
       "      <td>97 289 ₽</td>\n",
       "      <td>Оставить отзыв</td>\n",
       "      <td>0.0</td>\n",
       "    </tr>\n",
       "    <tr>\n",
       "      <th>3</th>\n",
       "      <td>https://www.detmir.ru/product/index/id/1000053...</td>\n",
       "      <td>Прогулки и путешествия</td>\n",
       "      <td>Детские коляски</td>\n",
       "      <td>Детские коляски 2 в 1</td>\n",
       "      <td>NaN</td>\n",
       "      <td>Коляска Bugaboo Fox 2в1 GREY MELANGE Base Alu</td>\n",
       "      <td>Bugaboo</td>\n",
       "      <td></td>\n",
       "      <td>1000053653nbr</td>\n",
       "      <td>94 244 ₽</td>\n",
       "      <td>94 244 ₽</td>\n",
       "      <td>Оставить отзыв</td>\n",
       "      <td>0.0</td>\n",
       "    </tr>\n",
       "    <tr>\n",
       "      <th>4</th>\n",
       "      <td>https://www.detmir.ru/product/index/id/3019510/</td>\n",
       "      <td>Прогулки и путешествия</td>\n",
       "      <td>Детские коляски</td>\n",
       "      <td>Детские коляски 2 в 1</td>\n",
       "      <td>NaN</td>\n",
       "      <td>Коляска 2 в 1 Bugaboo Mono Donkey 2 Complete G...</td>\n",
       "      <td>Bugaboo</td>\n",
       "      <td>189150GR01</td>\n",
       "      <td>1000050636</td>\n",
       "      <td>92 989 ₽</td>\n",
       "      <td>92 989 ₽</td>\n",
       "      <td>Оставить отзыв</td>\n",
       "      <td>0.0</td>\n",
       "    </tr>\n",
       "    <tr>\n",
       "      <th>5</th>\n",
       "      <td>https://www.detmir.ru/product/index/id/3137609/</td>\n",
       "      <td>Прогулки и путешествия</td>\n",
       "      <td>Детские коляски</td>\n",
       "      <td>Детские коляски 2 в 1</td>\n",
       "      <td>NaN</td>\n",
       "      <td>Коляска 2в1 Bugaboo Fox Classic Complete Alu/d...</td>\n",
       "      <td>Bugaboo</td>\n",
       "      <td>239170AA01</td>\n",
       "      <td>1000072638</td>\n",
       "      <td>92 689 ₽</td>\n",
       "      <td>92 689 ₽</td>\n",
       "      <td>Оставить отзыв</td>\n",
       "      <td>0.0</td>\n",
       "    </tr>\n",
       "    <tr>\n",
       "      <th>6</th>\n",
       "      <td>https://www.detmir.ru/product/index/id/1000053...</td>\n",
       "      <td>Прогулки и путешествия</td>\n",
       "      <td>Детские коляски</td>\n",
       "      <td>Детские коляски 2 в 1</td>\n",
       "      <td>NaN</td>\n",
       "      <td>Коляска Bugaboo Fox 2в1 Black/SKY BLUE base Alu</td>\n",
       "      <td>Bugaboo</td>\n",
       "      <td></td>\n",
       "      <td>1000053651nbr</td>\n",
       "      <td>92 134 ₽</td>\n",
       "      <td>92 134 ₽</td>\n",
       "      <td>Оставить отзыв</td>\n",
       "      <td>0.0</td>\n",
       "    </tr>\n",
       "    <tr>\n",
       "      <th>7</th>\n",
       "      <td>https://www.detmir.ru/product/index/id/3085787/</td>\n",
       "      <td>Прогулки и путешествия</td>\n",
       "      <td>Детские коляски</td>\n",
       "      <td>Детские коляски 2 в 1</td>\n",
       "      <td>NaN</td>\n",
       "      <td>Коляска 2в1 Hartan Vip GTX XL 710 без сумки Cе...</td>\n",
       "      <td>Hartan</td>\n",
       "      <td>2289.106.710</td>\n",
       "      <td>1000054723</td>\n",
       "      <td>87 489 ₽</td>\n",
       "      <td>87 489 ₽</td>\n",
       "      <td>Оставить отзыв</td>\n",
       "      <td>0.0</td>\n",
       "    </tr>\n",
       "    <tr>\n",
       "      <th>8</th>\n",
       "      <td>https://www.detmir.ru/product/index/id/3085789/</td>\n",
       "      <td>Прогулки и путешествия</td>\n",
       "      <td>Детские коляски</td>\n",
       "      <td>Детские коляски 2 в 1</td>\n",
       "      <td>NaN</td>\n",
       "      <td>Коляска 2в1 Hartan Racer GTS XL 716 Cеро-вишне...</td>\n",
       "      <td>Hartan</td>\n",
       "      <td>2590.042.716</td>\n",
       "      <td>1000054725</td>\n",
       "      <td>87 489 ₽</td>\n",
       "      <td>87 489 ₽</td>\n",
       "      <td>1 отзыв</td>\n",
       "      <td>4.0</td>\n",
       "    </tr>\n",
       "    <tr>\n",
       "      <th>9</th>\n",
       "      <td>https://www.detmir.ru/product/index/id/1000079...</td>\n",
       "      <td>Прогулки и путешествия</td>\n",
       "      <td>Детские коляски</td>\n",
       "      <td>Детские коляски 2 в 1</td>\n",
       "      <td>NaN</td>\n",
       "      <td>Коляска Cybex 2в1 Priam Light Seat Happy Black...</td>\n",
       "      <td>Cybex</td>\n",
       "      <td></td>\n",
       "      <td>1000079137nbr</td>\n",
       "      <td>78 878 ₽</td>\n",
       "      <td>78 878 ₽</td>\n",
       "      <td>Оставить отзыв</td>\n",
       "      <td>0.0</td>\n",
       "    </tr>\n",
       "  </tbody>\n",
       "</table>\n",
       "</div>"
      ],
      "text/plain": [
       "                                                link         hierarchy_lvl_1  \\\n",
       "0  https://www.detmir.ru/product/index/id/1000053...  Прогулки и путешествия   \n",
       "1    https://www.detmir.ru/product/index/id/3137610/  Прогулки и путешествия   \n",
       "2    https://www.detmir.ru/product/index/id/3137621/  Прогулки и путешествия   \n",
       "3  https://www.detmir.ru/product/index/id/1000053...  Прогулки и путешествия   \n",
       "4    https://www.detmir.ru/product/index/id/3019510/  Прогулки и путешествия   \n",
       "5    https://www.detmir.ru/product/index/id/3137609/  Прогулки и путешествия   \n",
       "6  https://www.detmir.ru/product/index/id/1000053...  Прогулки и путешествия   \n",
       "7    https://www.detmir.ru/product/index/id/3085787/  Прогулки и путешествия   \n",
       "8    https://www.detmir.ru/product/index/id/3085789/  Прогулки и путешествия   \n",
       "9  https://www.detmir.ru/product/index/id/1000079...  Прогулки и путешествия   \n",
       "\n",
       "   hierarchy_lvl_2        hierarchy_lvl_3 hierarchy_lvl_4  \\\n",
       "0  Детские коляски  Детские коляски 2 в 1             NaN   \n",
       "1  Детские коляски  Детские коляски 2 в 1             NaN   \n",
       "2  Детские коляски  Детские коляски 2 в 1             NaN   \n",
       "3  Детские коляски  Детские коляски 2 в 1             NaN   \n",
       "4  Детские коляски  Детские коляски 2 в 1             NaN   \n",
       "5  Детские коляски  Детские коляски 2 в 1             NaN   \n",
       "6  Детские коляски  Детские коляски 2 в 1             NaN   \n",
       "7  Детские коляски  Детские коляски 2 в 1             NaN   \n",
       "8  Детские коляски  Детские коляски 2 в 1             NaN   \n",
       "9  Детские коляски  Детские коляски 2 в 1             NaN   \n",
       "\n",
       "                                           name_item    brand      item_art  \\\n",
       "0   Коляска Bugaboo Fox 2в1  Grey Melange base Black  Bugaboo                 \n",
       "1  Коляска 2в1 Bugaboo Fox Classic Complete Black...  Bugaboo    239171AE01   \n",
       "2  Коляска 2в1 Bugaboo Fox Classic Complete Black...  Bugaboo    239171AI01   \n",
       "3      Коляска Bugaboo Fox 2в1 GREY MELANGE Base Alu  Bugaboo                 \n",
       "4  Коляска 2 в 1 Bugaboo Mono Donkey 2 Complete G...  Bugaboo    189150GR01   \n",
       "5  Коляска 2в1 Bugaboo Fox Classic Complete Alu/d...  Bugaboo    239170AA01   \n",
       "6    Коляска Bugaboo Fox 2в1 Black/SKY BLUE base Alu  Bugaboo                 \n",
       "7  Коляска 2в1 Hartan Vip GTX XL 710 без сумки Cе...   Hartan  2289.106.710   \n",
       "8  Коляска 2в1 Hartan Racer GTS XL 716 Cеро-вишне...   Hartan  2590.042.716   \n",
       "9  Коляска Cybex 2в1 Priam Light Seat Happy Black...    Cybex                 \n",
       "\n",
       "      item_goods current_price previous_price       feedbacks  rating  \n",
       "0  1000053655nbr      99 044 ₽       99 044 ₽  Оставить отзыв     0.0  \n",
       "1     1000072639      97 289 ₽       97 289 ₽  Оставить отзыв     0.0  \n",
       "2     1000072650      97 289 ₽       97 289 ₽  Оставить отзыв     0.0  \n",
       "3  1000053653nbr      94 244 ₽       94 244 ₽  Оставить отзыв     0.0  \n",
       "4     1000050636      92 989 ₽       92 989 ₽  Оставить отзыв     0.0  \n",
       "5     1000072638      92 689 ₽       92 689 ₽  Оставить отзыв     0.0  \n",
       "6  1000053651nbr      92 134 ₽       92 134 ₽  Оставить отзыв     0.0  \n",
       "7     1000054723      87 489 ₽       87 489 ₽  Оставить отзыв     0.0  \n",
       "8     1000054725      87 489 ₽       87 489 ₽         1 отзыв     4.0  \n",
       "9  1000079137nbr      78 878 ₽       78 878 ₽  Оставить отзыв     0.0  "
      ]
     },
     "execution_count": 78,
     "metadata": {},
     "output_type": "execute_result"
    }
   ],
   "source": [
    "table.head(10)"
   ]
  },
  {
   "cell_type": "code",
   "execution_count": 79,
   "metadata": {},
   "outputs": [],
   "source": [
    "table.to_excel(output_file_parsing_report, index=False)"
   ]
  },
  {
   "cell_type": "markdown",
   "metadata": {},
   "source": [
    "# Обработка таблицы:"
   ]
  },
  {
   "cell_type": "code",
   "execution_count": 80,
   "metadata": {},
   "outputs": [],
   "source": [
    "table = pd.read_excel(output_file_parsing_report, header=0)"
   ]
  },
  {
   "cell_type": "code",
   "execution_count": 81,
   "metadata": {},
   "outputs": [],
   "source": [
    "#Приводи цены к правильному формату\n",
    "def price_correction1(data):\n",
    "    try:\n",
    "        data['current_price'] = data['current_price'].split(' ₽')[0].replace(' ', '')\n",
    "        return data['current_price'].replace(',', '.')\n",
    "    except:\n",
    "        return 0\n",
    "table['current_price'] = table.apply(price_correction1, axis=1)\n",
    "\n",
    "def price_correction2(data):\n",
    "    try:\n",
    "        data['previous_price'] = data['previous_price'].split(' ₽')[0].replace(' ', '')\n",
    "        return data['previous_price'].replace(',', '.')\n",
    "    except:\n",
    "        return 0\n",
    "table['previous_price'] = table.apply(price_correction2, axis=1)"
   ]
  },
  {
   "cell_type": "code",
   "execution_count": 82,
   "metadata": {},
   "outputs": [],
   "source": [
    "#Превращаем отзывы в число:\n",
    "import re\n",
    "def feedbacks_correction(data):\n",
    "    try:\n",
    "        f_count = re.findall('\\d+', data['feedbacks'])\n",
    "        if f_count:\n",
    "            return f_count[0]\n",
    "        else:\n",
    "            return 0\n",
    "    except:\n",
    "        return float('NaN')\n",
    "table['feedbacks'] = table.apply(feedbacks_correction, axis=1)"
   ]
  },
  {
   "cell_type": "code",
   "execution_count": 83,
   "metadata": {},
   "outputs": [],
   "source": [
    "table['current_price'] = table['current_price'].astype('float64')\n",
    "table['previous_price'] = table['previous_price'].astype('float64')\n",
    "table['feedbacks'] = table['feedbacks'].astype('float64')"
   ]
  },
  {
   "cell_type": "code",
   "execution_count": 84,
   "metadata": {},
   "outputs": [],
   "source": [
    "#Удаляем строки с нулевыми ценами:\n",
    "table = table[table['current_price']>0]\n",
    "#Считаем % скидки:\n",
    "table['discount'] = table['current_price'] / table['previous_price'] - 1"
   ]
  },
  {
   "cell_type": "code",
   "execution_count": 85,
   "metadata": {},
   "outputs": [],
   "source": [
    "#Сохраняем результат\n",
    "table.to_excel(output_file_parsing_report, index=False)"
   ]
  },
  {
   "cell_type": "markdown",
   "metadata": {},
   "source": [
    "# Объединение таблиц"
   ]
  },
  {
   "cell_type": "code",
   "execution_count": 98,
   "metadata": {},
   "outputs": [],
   "source": [
    "#Загружаем результат парсинга\n",
    "parsing_report = pd.read_excel(output_file_parsing_report, header=0)\n",
    "#Заполняем столбец с ратикулом \"-\", чтобы не было косяков при объединении\n",
    "parsing_report['item_art'] = parsing_report['item_art'].fillna('-')"
   ]
  },
  {
   "cell_type": "code",
   "execution_count": 99,
   "metadata": {
    "scrolled": true
   },
   "outputs": [],
   "source": [
    "bayer_report = pd.read_excel(input_buyer_report, sheet_name='Номенклатуры', header=1)"
   ]
  },
  {
   "cell_type": "code",
   "execution_count": 100,
   "metadata": {},
   "outputs": [],
   "source": [
    "#Получаем из байерского отчёта только таблицу с нужными столбцами:\n",
    "bayer_report = bayer_report[[\n",
    "    'Артикул',\n",
    "    'Наименование',\n",
    "    'Байер',\n",
    "    'Группа',\n",
    "    'Прайс-поинт на начало продаж, нац. вал.',\n",
    "    'Прайс-поинт текущий, нац. вал.',\n",
    "    'Остаток на текущий понедельник',\n",
    "    'Продажи за неделю, шт.',\n",
    "    'Выручка нац.вал. 7 дней, с НДС',\n",
    "    'Маржа % за 7 дней нац.вал.',\n",
    "    'Модель',\n",
    "    'Гиперссылка',\n",
    "    'Поставщик',\n",
    "    'Торговая марка'\n",
    "]]\n",
    "#Меняем имя столбца с артикулом поставщика, чтобы объединить таблицы:\n",
    "bayer_report['final_key_kk'] = bayer_report['Модель'] + bayer_report['Артикул']"
   ]
  },
  {
   "cell_type": "code",
   "execution_count": 101,
   "metadata": {},
   "outputs": [],
   "source": [
    "#Загружаем список ручных сопоставлений-ключей\n",
    "mathing_list = pd.read_excel(input_mathing_list, header=1)"
   ]
  },
  {
   "cell_type": "code",
   "execution_count": 102,
   "metadata": {},
   "outputs": [],
   "source": [
    "#Создаем ключ в таблице ДМ\n",
    "parsing_report['item_art'] = parsing_report['item_art'].astype(str)\n",
    "parsing_report['item_goods'] = parsing_report['item_goods'].astype(str)\n",
    "parsing_report['final_key_dm'] = parsing_report['item_art'] + parsing_report['item_goods']"
   ]
  },
  {
   "cell_type": "code",
   "execution_count": 103,
   "metadata": {},
   "outputs": [],
   "source": [
    "#Подкачиваем ключи в таблицу:\n",
    "parsing_report = parsing_report.merge(mathing_list[['final_key_dm', 'final_key_kk']], on='final_key_dm', how='left')"
   ]
  },
  {
   "cell_type": "code",
   "execution_count": 104,
   "metadata": {},
   "outputs": [],
   "source": [
    "#Пустые заполним прочерком\n",
    "parsing_report['final_key_kk'] = parsing_report['final_key_kk'].fillna('-')"
   ]
  },
  {
   "cell_type": "code",
   "execution_count": 105,
   "metadata": {},
   "outputs": [],
   "source": [
    "#Объединяем\n",
    "table_joint = parsing_report.merge(bayer_report, on='final_key_kk', how='left')"
   ]
  },
  {
   "cell_type": "code",
   "execution_count": 106,
   "metadata": {},
   "outputs": [],
   "source": [
    "#Добавляем среднюю цену продажи за 7 дней КК:\n",
    "table_joint['Средняя цена продажи 7 дней, нац.вал с НДС'] = table_joint[\n",
    "    'Выручка нац.вал. 7 дней, с НДС'] / table_joint['Продажи за неделю, шт.']\n",
    "table_joint['Разница тек. цен КК/ДМ'] = table_joint['Прайс-поинт текущий, нац. вал.'] / table_joint['current_price'] - 1"
   ]
  },
  {
   "cell_type": "code",
   "execution_count": 107,
   "metadata": {},
   "outputs": [],
   "source": [
    "#Переименовываем столбцы\n",
    "table_joint.columns = [\n",
    "    ### Столбцы Детский Мир:\n",
    "    'Ссылка',\n",
    "    'Иерархия №1',\n",
    "    'Иерархия №2',\n",
    "    'Иерархия №3',\n",
    "    'Иерархия №4',\n",
    "    'Наименование товара',\n",
    "    'Бренд',\n",
    "    'Артикул поставщика',\n",
    "    'Артикул внутренний',\n",
    "    'Текущая цена',\n",
    "    'Первоначальная цена',\n",
    "    'Кол-во отзывов',\n",
    "    'Рейтинг',\n",
    "    'Скидка, %',\n",
    "    'final_key_dm',\n",
    "    'final_key_kk',\n",
    "    ### Столбцы КариКидс:\n",
    "    'Артикул КК',\n",
    "    'Наименование артикула',\n",
    "    'Байер',\n",
    "    'Группа',\n",
    "    'Прайс-поинт на начало продаж, нац. вал.',\n",
    "    'Прайс-поинт текущий, нац. вал.',\n",
    "    'Остаток на текущий понедельник',\n",
    "    'Продажи за неделю, шт.',\n",
    "    'Выручка нац.вал. 7 дней, с НДС',\n",
    "    'Маржа % за 7 дней нац.вал.',\n",
    "    'Модель поставщика КК',\n",
    "    'Ссылка КК',\n",
    "    'Поставщик',\n",
    "    'Торговая марка',\n",
    "    'Средняя цена продажи 7 дней, нац.вал с НДС',\n",
    "    'Разница тек. цен КК/ДМ'\n",
    "]"
   ]
  },
  {
   "cell_type": "code",
   "execution_count": 108,
   "metadata": {},
   "outputs": [],
   "source": [
    "#Меняем порядок столбцов\n",
    "table_joint = table_joint[[\n",
    "    #Артикула ДМ\n",
    "    'Ссылка',\n",
    "    'Иерархия №1',\n",
    "    'Иерархия №2',\n",
    "    'Иерархия №3',\n",
    "    'Иерархия №4',\n",
    "    'Наименование товара',\n",
    "    'Бренд',\n",
    "    'Артикул поставщика',\n",
    "    'Артикул внутренний',\n",
    "    'Первоначальная цена',\n",
    "    'Текущая цена',\n",
    "    'Скидка, %',\n",
    "    'Кол-во отзывов',\n",
    "    'Рейтинг',\n",
    "    'Разница тек. цен КК/ДМ',\n",
    "    #Артикула КК\n",
    "    'Модель поставщика КК',\n",
    "    'Ссылка КК',\n",
    "    'Артикул КК',\n",
    "    'Наименование артикула',\n",
    "    'Поставщик',\n",
    "    'Торговая марка',\n",
    "    'Байер',\n",
    "    'Группа',\n",
    "    'Прайс-поинт на начало продаж, нац. вал.',\n",
    "    'Прайс-поинт текущий, нац. вал.',\n",
    "    'Средняя цена продажи 7 дней, нац.вал с НДС',\n",
    "    'Остаток на текущий понедельник',\n",
    "    'Продажи за неделю, шт.',\n",
    "    'Маржа % за 7 дней нац.вал.',\n",
    "]]"
   ]
  },
  {
   "cell_type": "markdown",
   "metadata": {},
   "source": [
    "# Выгрузка в exel"
   ]
  },
  {
   "cell_type": "code",
   "execution_count": 109,
   "metadata": {},
   "outputs": [],
   "source": [
    "table_joint.to_excel(output_file_parsing_final, index=False)"
   ]
  }
 ],
 "metadata": {
  "kernelspec": {
   "display_name": "Python 3 (ipykernel)",
   "language": "python",
   "name": "python3"
  },
  "language_info": {
   "codemirror_mode": {
    "name": "ipython",
    "version": 3
   },
   "file_extension": ".py",
   "mimetype": "text/x-python",
   "name": "python",
   "nbconvert_exporter": "python",
   "pygments_lexer": "ipython3",
   "version": "3.9.4"
  }
 },
 "nbformat": 4,
 "nbformat_minor": 2
}
